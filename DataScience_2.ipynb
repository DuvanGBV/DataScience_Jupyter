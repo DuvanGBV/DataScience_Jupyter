{
 "cells": [
  {
   "cell_type": "markdown",
   "metadata": {},
   "source": [
    "# DataScience_2"
   ]
  },
  {
   "cell_type": "markdown",
   "metadata": {},
   "source": [
    "Bienvenido al proyecto final del curso de Ciencia de Datos. En este cuaderno, exploraremos varios conceptos y herramientas clave en el campo de la ciencia de datos. A lo largo de este proyecto, aprenderemos sobre los diferentes lenguajes, bibliotecas y herramientas utilizados por los científicos de datos para analizar datos, desarrollar modelos y obtener información valiosa."
   ]
  },
  {
   "cell_type": "markdown",
   "metadata": {},
   "source": [
    "Lenguajes de la ciencia de datos:\n",
    "\n",
    "Python, R, SQL, Julia y Scala."
   ]
  },
  {
   "cell_type": "markdown",
   "metadata": {},
   "source": [
    "Bibliotecas de ciencia de datos:\n",
    "\n",
    "1. Pandas: Para manipulación y análisis de datos.\n",
    "2. NumPy: Para computación numérica y manipulación de matrices.\n",
    "3. Matplotlib: Para visualización de datos en gráficos 2D.\n",
    "4. Seaborn: Para visualización estadística de datos.\n",
    "5. Scikit-learn: Para aprendizaje automático y modelado predictivo.\n",
    "6. TensorFlow: Para aprendizaje profundo y desarrollo de modelos de redes neuronales.\n",
    "7. Keras: Una API de alto nivel para construir y entrenar modelos de aprendizaje profundo.\n",
    "8. PyTorch: Otra biblioteca popular para el desarrollo de modelos de aprendizaje profundo.\n",
    "9. SciPy: Para cálculos científicos y técnicos.\n",
    "10. Statsmodels: Para modelado estadístico y pruebas de hipótesis."
   ]
  },
  {
   "cell_type": "markdown",
   "metadata": {},
   "source": [
    "Herramientas de Ciencia de Datos.\n",
    "\n",
    "| Herramienta       | Descripción                                                      |\n",
    "|-------------------|------------------------------------------------------------------|\n",
    "| Jupyter Notebook | Entorno interactivo para la creación de documentos reproducibles |\n",
    "| RStudio           | IDE dedicado para la programación en R                           |\n",
    "| Spyder            | IDE diseñado para la programación científica en Python           |\n",
    "| VSCode            | Editor de código con soporte para múltiples lenguajes            |\n",
    "| Google Colab      | Plataforma basada en la nube para ejecutar cuadernos Jupyter     |"
   ]
  },
  {
   "cell_type": "markdown",
   "metadata": {},
   "source": [
    "Ejemplos de expresiones aritméticas.\n",
    "\n",
    "1. Suma: \\( 2 + 3 = 5 \\)\n",
    "2. Resta: \\( 8 - 4 = 4 \\)\n",
    "3. Multiplicación: \\( 5 \\times 6 = 30 \\)\n",
    "4. División: \\( \\frac{10}{2} = 5 \\)\n",
    "5. Potenciación: \\( 2^3 = 8 \\)\n",
    "6. Raíz cuadrada: \\( \\sqrt{9} = 3 \\)\n",
    "7. Paréntesis: \\( (4 + 5) \\times 3 = 27 \\)"
   ]
  },
  {
   "cell_type": "code",
   "execution_count": null,
   "metadata": {
    "vscode": {
     "languageId": "plaintext"
    }
   },
   "outputs": [],
   "source": [
    "Multiplicar y sumar números.\n",
    "\n",
    "a = 5\n",
    "b = 3\n",
    "resultado_multiplicacion = a * b\n",
    "print(\"El resultado de la multiplicación es:\", resultado_multiplicacion)\n",
    "\n",
    "c = 10\n",
    "d = 7\n",
    "resultado_suma = c + d\n",
    "print(\"El resultado de la suma es:\", resultado_suma)"
   ]
  },
  {
   "cell_type": "code",
   "execution_count": null,
   "metadata": {
    "vscode": {
     "languageId": "plaintext"
    }
   },
   "outputs": [],
   "source": [
    "Convertir minutos en horas.\n",
    "\n",
    "minutos = 150\n",
    "horas = minutos / 60\n",
    "print(minutos, \"minutos equivalen a\", horas, \"horas\")"
   ]
  },
  {
   "cell_type": "code",
   "execution_count": null,
   "metadata": {
    "vscode": {
     "languageId": "plaintext"
    }
   },
   "outputs": [],
   "source": [
    "Listar Objetivos.\n",
    "\n",
    "objetivos = [\n",
    "    \"Demostrar conocimiento de Markdown y celdas de código en JupyterLite\",\n",
    "    \"Mostrar habilidades en ciencia de datos y manipulación de datos en Python\",\n",
    "    \"Practicar la presentación de proyectos utilizando Jupyter y GitHub\"\n",
    "]\n",
    "\n",
    "for objetivo in objetivos:\n",
    "    print(\"- \", objetivo)"
   ]
  },
  {
   "cell_type": "markdown",
   "metadata": {},
   "source": [
    "Duvan Andres Galvis Brito."
   ]
  }
 ],
 "metadata": {
  "language_info": {
   "name": "python"
  }
 },
 "nbformat": 4,
 "nbformat_minor": 2
}
